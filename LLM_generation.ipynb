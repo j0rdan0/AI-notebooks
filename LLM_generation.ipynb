{
  "nbformat": 4,
  "nbformat_minor": 0,
  "metadata": {
    "colab": {
      "provenance": [],
      "machine_shape": "hm",
      "gpuType": "T4",
      "authorship_tag": "ABX9TyOGOy2Ywo6pcNUayx71oMgu",
      "include_colab_link": true
    },
    "kernelspec": {
      "name": "python3",
      "display_name": "Python 3"
    },
    "language_info": {
      "name": "python"
    },
    "accelerator": "GPU"
  },
  "cells": [
    {
      "cell_type": "markdown",
      "metadata": {
        "id": "view-in-github",
        "colab_type": "text"
      },
      "source": [
        "<a href=\"https://colab.research.google.com/github/j0rdan0/AI-notebooks/blob/main/LLM_generation.ipynb\" target=\"_parent\"><img src=\"https://colab.research.google.com/assets/colab-badge.svg\" alt=\"Open In Colab\"/></a>"
      ]
    },
    {
      "cell_type": "code",
      "source": [
        "#!pip install huggingface_hub\n",
        "#!pip install -U BitsAndBytes\n",
        "\n",
        "# authenticate to hugging face\n",
        "def hf_auth():\n",
        "  import huggingface_hub\n",
        "  from google.colab import userdata\n",
        "\n",
        "  hf_token = userdata.get('HF_TOKEN`')\n",
        "  huggingface_hub.login(token=hf_token)"
      ],
      "metadata": {
        "id": "mwAPLF9LOx7E"
      },
      "execution_count": null,
      "outputs": []
    },
    {
      "cell_type": "code",
      "source": [
        "# fetch the model\n",
        "def get_model(model_name):\n",
        "  from transformers import AutoTokenizer, AutoModelForCausalLM,BitsAndBytesConfig\n",
        "  from accelerate.test_utils.testing import get_backend\n",
        "\n",
        "  device,_,_ = get_backend()\n",
        "  quantization_config = BitsAndBytesConfig(load_in_8bit=True)\n",
        "\n",
        "  hf_auth()\n",
        "\n",
        "  model = AutoModelForCausalLM.from_pretrained(model_name,device_map=\"auto\", quantization_config=quantization_config,attn_implementation=\"flash_attention_2\").to(device)\n",
        "  model.generation_config.cache_implementation = \"static\" # set kv status cache\n",
        "\n",
        "  model.forward = torch.compile(model.forward, mode=\"reduce-overhead\", fullgraph=True)\n",
        "\n",
        "  return model\n"
      ],
      "metadata": {
        "id": "mEdDZQIDAoyX"
      },
      "execution_count": null,
      "outputs": []
    },
    {
      "cell_type": "code",
      "source": [
        "# get tokenizer for model\n",
        "def get_tokenizer(model_name):\n",
        "  tokenizer = AutoTokenizer.from_pretrained(model_name,padding_side=\"left\")\n",
        "\n",
        "# perform inference on the model\n",
        "def send_prompt(prompt,model,tokenizer):\n",
        "  inputs = tokenizer(prompt,return_tensors=\"pt\").to(\"cuda\")\n",
        "  response = model.generate(**inputs,max_new_tokens=300,do_sample=True,num_beams=1)\n",
        "\n",
        "  return tokenizer.batch_decode(response,skip_special_tokens=True)\n"
      ],
      "metadata": {
        "id": "K10yfteh8KjW"
      },
      "execution_count": null,
      "outputs": []
    },
    {
      "cell_type": "code",
      "source": [],
      "metadata": {
        "id": "BPwe7-WSRUKE"
      },
      "execution_count": null,
      "outputs": []
    },
    {
      "cell_type": "code",
      "source": [
        "\n",
        "\n"
      ],
      "metadata": {
        "id": "q4cGR-TzAMyQ"
      },
      "execution_count": null,
      "outputs": []
    }
  ]
}